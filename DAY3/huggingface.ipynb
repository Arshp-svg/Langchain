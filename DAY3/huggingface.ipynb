{
 "cells": [
  {
   "cell_type": "code",
   "execution_count": 13,
   "id": "0d438ff4",
   "metadata": {},
   "outputs": [],
   "source": [
    "from langchain_community.document_loaders import PyPDFLoader,PyPDFDirectoryLoader\n",
    "from langchain.text_splitter import RecursiveCharacterTextSplitter\n",
    "from langchain_community.vectorstores import FAISS\n",
    "from langchain_community.embeddings import HuggingFaceEmbeddings\n",
    "import numpy as np\n",
    "from langchain.prompts import PromptTemplate\n",
    "from langchain.chains import RetrievalQA\n"
   ]
  },
  {
   "cell_type": "code",
   "execution_count": 14,
   "id": "80386dc2",
   "metadata": {},
   "outputs": [
    {
     "data": {
      "text/plain": [
       "'Health Insurance Coverage Status and Type \\nby Geography: 2021 and 2022\\nAmerican Community Survey Briefs\\nACSBR-015\\nIssued September 2023\\nDouglas Conway and Breauna Branch\\nINTRODUCTION\\nDemographic shifts as well as economic and govern-\\nment policy changes can affect people’s access to \\nhealth coverage. For example, between 2021 and 2022, \\nthe labor market continued to improve, which may \\nhave affected private coverage in the United States \\nduring that time.\\n1 Public policy changes included \\nthe renewal of the Public Health Emergency, which \\nallowed Medicaid enrollees to remain covered under \\nthe Continuous Enrollment Provision.\\n2 The American \\nRescue Plan (ARP) enhanced Marketplace premium \\nsubsidies for those with incomes above 400 percent \\nof the poverty level as well as for unemployed people.\\n3\\nIn addition to national policies, individual states and \\nthe District of Columbia can affect health insurance \\ncoverage by making Marketplace or Medicaid more'"
      ]
     },
     "execution_count": 14,
     "metadata": {},
     "output_type": "execute_result"
    }
   ],
   "source": [
    "loader=PyPDFDirectoryLoader('./us_sensus')\n",
    "documents=loader.load()\n",
    "text_splitter=RecursiveCharacterTextSplitter(chunk_size=1000,chunk_overlap=200)\n",
    "texts=text_splitter.split_documents(documents)\n",
    "texts[0].page_content"
   ]
  },
  {
   "cell_type": "code",
   "execution_count": 15,
   "id": "746d3084",
   "metadata": {},
   "outputs": [
    {
     "data": {
      "text/plain": [
       "316"
      ]
     },
     "execution_count": 15,
     "metadata": {},
     "output_type": "execute_result"
    }
   ],
   "source": [
    "len(texts)"
   ]
  },
  {
   "cell_type": "code",
   "execution_count": 16,
   "id": "76fdc2b2",
   "metadata": {},
   "outputs": [
    {
     "name": "stderr",
     "output_type": "stream",
     "text": [
      "C:\\Users\\ARSH\\AppData\\Local\\Temp\\ipykernel_2732\\3404273392.py:1: LangChainDeprecationWarning: The class `HuggingFaceEmbeddings` was deprecated in LangChain 0.2.2 and will be removed in 1.0. An updated version of the class exists in the :class:`~langchain-huggingface package and should be used instead. To use it run `pip install -U :class:`~langchain-huggingface` and import as `from :class:`~langchain_huggingface import HuggingFaceEmbeddings``.\n",
      "  hf_embeddings=HuggingFaceEmbeddings(model_name='sentence-transformers/all-MiniLM-L6-v2',model_kwargs={'device':'cpu'},encode_kwargs={'normalize_embeddings':True})\n"
     ]
    }
   ],
   "source": [
    "hf_embeddings=HuggingFaceEmbeddings(model_name='sentence-transformers/all-MiniLM-L6-v2',model_kwargs={'device':'cpu'},encode_kwargs={'normalize_embeddings':True})"
   ]
  },
  {
   "cell_type": "code",
   "execution_count": 17,
   "id": "58e98e21",
   "metadata": {},
   "outputs": [
    {
     "data": {
      "text/plain": [
       "array([-2.09632944e-02, -5.39067667e-04,  5.50213419e-02,  3.04131806e-02,\n",
       "        6.77258000e-02,  1.14703082e-01, -2.38763355e-02, -9.44041088e-03,\n",
       "       -9.48234797e-02, -5.78315090e-03, -1.78809818e-02,  9.28241313e-02,\n",
       "       -3.16224135e-02, -1.03725754e-01,  1.14526181e-02,  9.99598671e-03,\n",
       "        2.77782101e-02, -3.16832364e-02, -2.14311052e-02,  9.49425325e-02,\n",
       "       -4.78349775e-02,  2.48226654e-02, -5.71239144e-02, -3.00199469e-03,\n",
       "        8.33480991e-03,  2.94881710e-03,  3.43687050e-02, -2.18156073e-02,\n",
       "       -1.04256282e-02,  6.41097277e-02,  1.02224529e-01, -1.80637632e-02,\n",
       "        2.31494512e-02,  2.37538759e-02,  2.47497950e-02, -4.93023917e-02,\n",
       "       -4.57996204e-02,  2.13811081e-02, -9.22349617e-02,  2.33677477e-02,\n",
       "       -3.34298462e-02, -3.14886384e-02, -8.72596055e-02,  1.25024751e-01,\n",
       "        1.99524667e-02,  1.27728982e-03, -4.58287634e-02,  8.62977877e-02,\n",
       "        7.01130880e-03,  6.47120550e-02,  1.39410542e-02,  1.68929156e-02,\n",
       "        4.69882935e-02,  2.31254622e-02,  2.84572318e-03, -3.19084935e-02,\n",
       "       -4.02163416e-02, -3.48493159e-02, -1.10991700e-02,  1.48271797e-02,\n",
       "       -1.24299387e-02, -3.13107297e-02,  3.12526263e-02,  3.95675413e-02,\n",
       "       -6.62554130e-02,  5.08894362e-02,  1.14648351e-02, -1.71780903e-02,\n",
       "        2.45632622e-02, -4.41168472e-02, -3.73775586e-02, -2.95965448e-02,\n",
       "       -1.11765349e-02, -7.36949779e-03,  9.71889645e-02,  7.40595628e-04,\n",
       "        3.88193093e-02,  3.35478671e-02,  1.19739890e-01, -2.11453717e-02,\n",
       "        1.11602815e-02, -6.02824092e-02, -1.93914026e-03,  3.06123793e-02,\n",
       "       -5.73789105e-02, -9.44957312e-04, -5.04864305e-02, -3.29479091e-02,\n",
       "        9.49819852e-03, -1.13753773e-01,  6.60914853e-02,  1.63414925e-02,\n",
       "        9.58508812e-03,  1.15789557e-02, -5.39202848e-03, -2.12459713e-02,\n",
       "       -1.73203566e-03, -4.79248650e-02, -2.11402997e-02, -9.69182421e-03,\n",
       "       -1.32059623e-02, -6.30469322e-02,  2.96467803e-02,  3.58915934e-03,\n",
       "       -3.63937542e-02, -1.08671442e-01,  1.22316023e-02, -2.22084075e-02,\n",
       "        1.30752865e-02,  6.58278018e-02,  5.60337938e-02, -5.11288131e-03,\n",
       "        2.55745221e-02, -1.70577911e-03, -1.52664995e-02, -4.38448414e-02,\n",
       "       -6.53531076e-03, -4.21617739e-02,  3.49016003e-02,  1.69210713e-02,\n",
       "       -7.48985866e-03,  1.75326876e-02, -3.95401902e-02, -5.73194213e-02,\n",
       "        1.07809622e-02,  9.77279386e-04, -2.73837168e-02,  2.55044566e-33,\n",
       "        5.77153340e-02, -3.40021141e-02,  5.09150214e-02,  9.37309954e-03,\n",
       "       -1.72029026e-02, -4.18360047e-02,  1.77394580e-02, -8.37029144e-02,\n",
       "        6.82473555e-02, -2.14545000e-02, -6.05351776e-02,  7.02566141e-03,\n",
       "        3.41929458e-02,  1.24694981e-01, -3.49492324e-03, -2.59859245e-02,\n",
       "       -6.70353174e-02,  6.67434111e-02, -5.33149689e-02,  1.03867672e-01,\n",
       "       -4.36361097e-02, -3.00516915e-02,  8.91128182e-03, -6.63115783e-03,\n",
       "       -1.40555119e-02,  2.92925872e-02,  2.84042899e-02, -5.03365435e-02,\n",
       "        3.85208316e-02,  6.55846065e-03, -1.37995062e-02,  6.95075169e-02,\n",
       "       -5.43554453e-03, -3.38270515e-02, -3.29582812e-03,  3.59726138e-02,\n",
       "        3.89783038e-03,  2.59383805e-02, -9.57369506e-02, -4.88941222e-02,\n",
       "       -6.80117905e-02,  3.05252932e-02,  7.75247216e-02,  7.22732842e-02,\n",
       "        8.97028521e-02, -6.08761571e-02, -3.20909615e-03,  2.98704347e-03,\n",
       "       -4.35463786e-02, -7.59723317e-03, -3.94276306e-02,  7.51333982e-02,\n",
       "       -4.53394242e-02, -4.68024015e-02, -1.05074118e-03, -5.31651229e-02,\n",
       "       -5.68795279e-02, -1.62473172e-02,  1.67615823e-02, -3.46395597e-02,\n",
       "        4.00899164e-02, -1.50255375e-02,  7.01362789e-02, -7.23702163e-02,\n",
       "        1.29249198e-02,  8.41820464e-02, -1.35447448e-02, -4.37906794e-02,\n",
       "        1.60206780e-02,  7.33707100e-02,  4.70603295e-02,  4.80520800e-02,\n",
       "       -3.04963831e-02,  3.22388448e-02, -2.26046573e-02,  2.50625852e-02,\n",
       "       -1.96144264e-02, -7.57940765e-03,  8.63536373e-02,  3.08663808e-02,\n",
       "       -2.95524299e-03, -4.98452112e-02,  3.12033687e-02,  1.88768469e-02,\n",
       "        8.90441090e-02,  3.13636400e-02,  1.46492468e-02,  6.17544800e-02,\n",
       "       -1.48244416e-02, -1.25197232e-01, -2.30226982e-02,  4.72721383e-02,\n",
       "        2.21471526e-02,  4.85653915e-02,  8.89642388e-02, -4.51431597e-33,\n",
       "       -4.00183685e-02, -1.10696221e-03, -8.61112680e-03, -4.56951410e-02,\n",
       "       -1.17024956e-02, -6.14021234e-02,  3.23937759e-02, -5.31047396e-03,\n",
       "        8.88321772e-02, -3.97911072e-02, -3.23235393e-02, -1.37938866e-02,\n",
       "        6.81670681e-02,  6.82982728e-02, -7.91698247e-02, -1.53078232e-02,\n",
       "       -5.05341925e-02, -9.35995728e-02, -6.25173748e-02,  3.53240967e-02,\n",
       "       -2.26288736e-02, -1.24866711e-02, -2.49427911e-02,  5.28084673e-02,\n",
       "        1.95473544e-02,  2.38580704e-02, -3.91522199e-02,  3.80482487e-02,\n",
       "        9.81909633e-02, -1.30321264e-01, -3.55011635e-02,  3.13588381e-02,\n",
       "       -4.21000719e-02,  5.48703857e-02, -3.24996673e-02,  3.99602344e-03,\n",
       "        1.12116048e-02, -1.96847748e-02, -1.83665063e-02, -6.46146163e-02,\n",
       "        1.24136314e-01, -7.22768679e-02,  4.97052865e-03,  5.94891831e-02,\n",
       "        2.25309245e-02,  3.94929349e-02,  5.67392223e-02,  8.70945211e-03,\n",
       "       -7.83642605e-02,  8.75681266e-03, -2.70337518e-02, -2.98699830e-02,\n",
       "        1.25306007e-02,  1.22842602e-01, -1.83363201e-03, -3.71056125e-02,\n",
       "        1.31951580e-02, -1.08824149e-01, -1.08561657e-01, -2.06031110e-02,\n",
       "       -6.53922465e-03,  6.12258948e-02, -1.28393341e-02,  5.39675802e-02,\n",
       "       -1.28573170e-02, -7.41260871e-02,  1.90168619e-02, -1.03541560e-01,\n",
       "        1.81345548e-02, -7.42303133e-02, -9.42813419e-03, -6.77852333e-02,\n",
       "       -5.46303913e-02, -1.03349306e-01,  3.23929526e-02, -6.33191725e-04,\n",
       "        3.48553993e-02,  4.86792065e-02, -4.20183539e-02,  4.39664796e-02,\n",
       "        1.74985863e-02, -7.01104775e-02, -5.34065440e-02,  3.08661778e-02,\n",
       "       -3.46759111e-02,  1.32028284e-02, -2.25202031e-02, -7.90254921e-02,\n",
       "       -5.23174815e-02,  1.17217325e-01, -1.42436802e-01,  8.19184184e-02,\n",
       "       -1.03776224e-01,  1.22386450e-02, -8.90232325e-02, -4.56651748e-08,\n",
       "        5.54959550e-02,  8.78150612e-02, -2.27799565e-02, -3.93952578e-02,\n",
       "        5.12459017e-02, -5.75938337e-02, -1.01444528e-01,  7.49711785e-03,\n",
       "        9.90948919e-03,  1.54522061e-02,  1.98047180e-02,  1.54921606e-01,\n",
       "        4.03351374e-02, -4.71919067e-02,  1.53014380e-02,  2.58815885e-02,\n",
       "        2.68519241e-02,  4.96724285e-02,  4.30427352e-03,  2.02497002e-02,\n",
       "       -8.95649344e-02,  4.60795052e-02, -3.62149533e-03, -4.12838627e-03,\n",
       "       -2.68446226e-02,  1.26605481e-01, -4.61654775e-02, -8.46964959e-03,\n",
       "        5.75315244e-02,  2.69567198e-03, -8.52895249e-03,  1.87245038e-04,\n",
       "        2.59064734e-02, -9.33815725e-03, -3.32318917e-02, -8.07160232e-03,\n",
       "       -9.38557182e-03, -1.88111030e-02,  6.31836355e-02, -6.19269460e-02,\n",
       "        7.10206181e-02,  4.93415333e-02, -2.61152778e-02,  2.33156532e-02,\n",
       "       -2.24651559e-03, -1.35688350e-01, -4.48443517e-02, -4.28080186e-02,\n",
       "        1.53770316e-02, -4.01654765e-02, -6.68556243e-02, -5.97319938e-02,\n",
       "        8.81837234e-02, -3.97784226e-02,  6.02903739e-02,  1.64092649e-02,\n",
       "       -3.79460864e-02, -5.33882082e-02,  1.29003795e-02,  7.56148398e-02,\n",
       "       -1.72497164e-02, -9.08456147e-02, -4.98491488e-02,  9.40975994e-02])"
      ]
     },
     "execution_count": 17,
     "metadata": {},
     "output_type": "execute_result"
    }
   ],
   "source": [
    "import numpy as np\n",
    "np.array(hf_embeddings.embed_query(texts[0].page_content))"
   ]
  },
  {
   "cell_type": "code",
   "execution_count": 18,
   "id": "9edc6d30",
   "metadata": {},
   "outputs": [],
   "source": [
    "## VectorStore Creation\n",
    "vectorstore=FAISS.from_documents(texts[:120],hf_embeddings)"
   ]
  },
  {
   "cell_type": "code",
   "execution_count": null,
   "id": "527467f7",
   "metadata": {},
   "outputs": [
    {
     "name": "stdout",
     "output_type": "stream",
     "text": [
      "2 U.S. Census Bureau\n",
      "WHAT IS HEALTH INSURANCE COVERAGE?\n",
      "This brief presents state-level estimates of health insurance coverage \n",
      "using data from the American Community Survey (ACS). The  \n",
      "U.S. Census Bureau conducts the ACS throughout the year; the \n",
      "survey asks respondents to report their coverage at the time of \n",
      "interview. The resulting measure of health insurance coverage, \n",
      "therefore, reflects an annual average of current comprehensive \n",
      "health insurance coverage status.* This uninsured rate measures a \n",
      "different concept than the measure based on the Current Population \n",
      "Survey Annual Social and Economic Supplement (CPS ASEC). \n",
      "For reporting purposes, the ACS broadly classifies health insurance \n",
      "coverage as private insurance or public insurance. The ACS defines \n",
      "private health insurance as a plan provided through an employer \n",
      "or a union, coverage purchased directly by an individual from an \n",
      "insurance company or through an exchange (such as healthcare.\n"
     ]
    }
   ],
   "source": [
    "## Query using Similarity Search\n",
    "query=\"WHAT IS HEALTH INSURANCE COVERAGE?\"\n",
    "relevant_documents=vectorstore.similarity_search(query)\n",
    "\n",
    "print(relevant_documents[0].page_content)"
   ]
  },
  {
   "cell_type": "code",
   "execution_count": 20,
   "id": "47f1456b",
   "metadata": {},
   "outputs": [
    {
     "name": "stdout",
     "output_type": "stream",
     "text": [
      "tags=['FAISS', 'HuggingFaceEmbeddings'] vectorstore=<langchain_community.vectorstores.faiss.FAISS object at 0x00000234A5A83010> search_kwargs={'k': 3}\n"
     ]
    }
   ],
   "source": [
    "retriever=vectorstore.as_retriever(search_type=\"similarity\",search_kwargs={\"k\":3})\n",
    "print(retriever)"
   ]
  },
  {
   "cell_type": "code",
   "execution_count": null,
   "id": "8e0df156",
   "metadata": {},
   "outputs": [],
   "source": [
    "# Load API key securely from environment variables\n",
    "import os\n",
    "from dotenv import load_dotenv\n",
    "load_dotenv()\n",
    "os.environ['HUGGINGFACEHUB_API_TOKEN'] = os.getenv(\"HUGGINGFACEHUB_API_TOKEN\")\n",
    "\n",
    "# Warning if API key not found\n",
    "if not os.getenv(\"HUGGINGFACEHUB_API_TOKEN\"):\n",
    "    print(\"⚠️ Warning: HUGGINGFACEHUB_API_TOKEN not found in environment variables!\")\n",
    "    print(\"Please add your HuggingFace API key to your .env file\")"
   ]
  },
  {
   "cell_type": "code",
   "execution_count": 56,
   "id": "984f94e0",
   "metadata": {},
   "outputs": [
    {
     "name": "stderr",
     "output_type": "stream",
     "text": [
      "Device set to use cpu\n"
     ]
    },
    {
     "data": {
      "text/plain": [
       "'WHAT IS THE AMERICAN COMMUNITY SURVEY?\\n\\nThe American Community Survey (ACS) is a nationally representative survey of American adults conducted by the American Community Survey (ACS). The ACS is a nationally representative survey of American adults conducted by the American Community Survey (ACS). The ACS is a nationally representative survey of American adults conducted by the American Community Survey (ACS).\\n\\nWhat is the American Community Survey?\\n\\nThe American Community Survey (ACS) is a nationally representative survey of American adults conducted by the American Community Survey (ACS). The ACS is a nationally representative survey of American adults conducted by the American Community Survey (ACS).\\n\\nWhat is the American Community Survey (ACS) is a nationally representative survey of American adults conducted by the American Community Survey (ACS). The ACS is a nationally representative survey of American adults conducted by the American Community Survey (ACS).\\n\\nWhat is the American Community Survey (ACS) is a nationally representative survey of American adults conducted by the American Community Survey (ACS). The ACS is a nationally representative survey of American adults conducted by the American Community Survey (ACS).\\n\\nWhat is the American Community Survey (ACS) is a nationally representative survey of American adults conducted by the American Community Survey (ACS). The ACS is a nationally representative survey of American adults conducted by the American Community Survey (ACS).\\n\\nWhat is the American Community Survey (ACS) is a nationally representative survey of American adults conducted by the American Community'"
      ]
     },
     "execution_count": 56,
     "metadata": {},
     "output_type": "execute_result"
    }
   ],
   "source": [
    "from langchain_community.llms.huggingface_pipeline import HuggingFacePipeline\n",
    "\n",
    "hf = HuggingFacePipeline.from_model_id(\n",
    "    model_id=\"gpt2\",\n",
    "    task=\"text-generation\",\n",
    "    pipeline_kwargs={\n",
    "        \"temperature\": 0.01,  # Changed from 0 to 0.01 (small positive value)\n",
    "        \"max_new_tokens\": 300\n",
    "    }\n",
    ")\n",
    "\n",
    "llm = hf \n",
    "llm.invoke(query)"
   ]
  },
  {
   "cell_type": "code",
   "execution_count": 52,
   "id": "a6d353b9",
   "metadata": {},
   "outputs": [],
   "source": [
    "prompt_template=\"\"\"\n",
    "Use the following piece of context to answer the question asked.\n",
    "Please try to provide the answer only based on the context\n",
    "\n",
    "{context}\n",
    "Question:{question}\n",
    "\n",
    "Helpful Answers:\n",
    " \"\"\""
   ]
  },
  {
   "cell_type": "code",
   "execution_count": 53,
   "id": "92a10eb3",
   "metadata": {},
   "outputs": [],
   "source": [
    "prompt=PromptTemplate(template=prompt_template,input_variables=[\"context\",\"question\"])"
   ]
  },
  {
   "cell_type": "code",
   "execution_count": 54,
   "id": "9c8d3c6c",
   "metadata": {},
   "outputs": [],
   "source": [
    "retrievalQA=RetrievalQA.from_chain_type(\n",
    "    llm=hf,\n",
    "    chain_type=\"stuff\",\n",
    "    retriever=retriever,\n",
    "    return_source_documents=True,\n",
    "    chain_type_kwargs={\"prompt\":prompt}\n",
    ")"
   ]
  },
  {
   "cell_type": "code",
   "execution_count": 57,
   "id": "fd7fcbf3",
   "metadata": {},
   "outputs": [],
   "source": [
    "query=\"\"\"WHAT IS HEALTH INSURANCE COVERAGE?\"\"\""
   ]
  },
  {
   "cell_type": "code",
   "execution_count": 58,
   "id": "af27a9e4",
   "metadata": {},
   "outputs": [
    {
     "name": "stdout",
     "output_type": "stream",
     "text": [
      "\n",
      "Use the following piece of context to answer the question asked.\n",
      "Please try to provide the answer only based on the context\n",
      "\n",
      "2 U.S. Census Bureau\n",
      "WHAT IS HEALTH INSURANCE COVERAGE?\n",
      "This brief presents state-level estimates of health insurance coverage \n",
      "using data from the American Community Survey (ACS). The  \n",
      "U.S. Census Bureau conducts the ACS throughout the year; the \n",
      "survey asks respondents to report their coverage at the time of \n",
      "interview. The resulting measure of health insurance coverage, \n",
      "therefore, reflects an annual average of current comprehensive \n",
      "health insurance coverage status.* This uninsured rate measures a \n",
      "different concept than the measure based on the Current Population \n",
      "Survey Annual Social and Economic Supplement (CPS ASEC). \n",
      "For reporting purposes, the ACS broadly classifies health insurance \n",
      "coverage as private insurance or public insurance. The ACS defines \n",
      "private health insurance as a plan provided through an employer \n",
      "or a union, coverage purchased directly by an individual from an \n",
      "insurance company or through an exchange (such as healthcare.\n",
      "\n",
      "private health insurance as a plan provided through an employer \n",
      "or a union, coverage purchased directly by an individual from an \n",
      "insurance company or through an exchange (such as healthcare.\n",
      "gov), or coverage through TRICARE. Public insurance coverage \n",
      "includes federal programs (such as Medicare, Medicaid, and the \n",
      "Children’s Health Insurance Program or CHIP), individual state \n",
      "health plans, and CHAMPVA (Civilian Health and Medical Program \n",
      "at the Department of Veterans Affairs), as well as care provided \n",
      "by the Department of Veterans Affairs. In the ACS, people are \n",
      "considered insured if they were covered by any of these types \n",
      "of health insurance at time of interview. People are considered \n",
      "uninsured if they were not covered by any of these types of health \n",
      "insurance at time of interview or if they only had coverage through \n",
      "the Indian Health Service (IHS), as IHS coverage is not considered \n",
      "comprehensive.\n",
      "\n",
      "Health Insurance Coverage Status and Type \n",
      "by Geography: 2021 and 2022\n",
      "American Community Survey Briefs\n",
      "ACSBR-015\n",
      "Issued September 2023\n",
      "Douglas Conway and Breauna Branch\n",
      "INTRODUCTION\n",
      "Demographic shifts as well as economic and govern-\n",
      "ment policy changes can affect people’s access to \n",
      "health coverage. For example, between 2021 and 2022, \n",
      "the labor market continued to improve, which may \n",
      "have affected private coverage in the United States \n",
      "during that time.\n",
      "1 Public policy changes included \n",
      "the renewal of the Public Health Emergency, which \n",
      "allowed Medicaid enrollees to remain covered under \n",
      "the Continuous Enrollment Provision.\n",
      "2 The American \n",
      "Rescue Plan (ARP) enhanced Marketplace premium \n",
      "subsidies for those with incomes above 400 percent \n",
      "of the poverty level as well as for unemployed people.\n",
      "3\n",
      "In addition to national policies, individual states and \n",
      "the District of Columbia can affect health insurance \n",
      "coverage by making Marketplace or Medicaid more\n",
      "Question:WHAT IS HEALTH INSURANCE COVERAGE?\n",
      "\n",
      "Helpful Answers:\n",
      " \n",
      "1. The ACS provides information on the \n",
      "health insurance coverage status of people who are uninsured.\n",
      "\n",
      "2. The ACS also provides information on the \n",
      "\n",
      "health insurance coverage status of people who are uninsured.\n",
      "\n",
      "3. The ACS also provides information on the \n",
      "\n",
      "health insurance coverage status of people who are uninsured.\n",
      "\n",
      "4. The ACS also provides information on the \n",
      "\n",
      "health insurance coverage status of people who are uninsured.\n",
      "\n",
      "5. The ACS also provides information on the \n",
      "\n",
      "health insurance coverage status of people who are uninsured.\n",
      "\n",
      "6. The ACS also provides information on the \n",
      "\n",
      "health insurance coverage status of people who are uninsured.\n",
      "\n",
      "7. The ACS also provides information on the \n",
      "\n",
      "health insurance coverage status of people who are uninsured.\n",
      "\n",
      "8. The ACS also provides information on the \n",
      "\n",
      "health insurance coverage status of people who are uninsured.\n",
      "\n",
      "9. The ACS also provides information on the \n",
      "\n",
      "health insurance coverage status of people who are uninsured.\n",
      "\n",
      "10. The ACS also provides information on the \n",
      "\n",
      "health insurance coverage status of people who are uninsured.\n",
      "\n",
      "11. The ACS also provides information on the \n",
      "\n",
      "health insurance coverage status of people who are uninsured.\n",
      "\n",
      "12. The ACS also provides information on the \n",
      "\n",
      "health insurance coverage status of people who are uninsured.\n",
      "\n",
      "13. The ACS also provides information on the \n",
      "\n",
      "health\n"
     ]
    }
   ],
   "source": [
    "# Call the QA chain with our query.\n",
    "result = retrievalQA.invoke({\"query\": query})\n",
    "print(result['result'])"
   ]
  },
  {
   "cell_type": "code",
   "execution_count": null,
   "id": "dc9a7afd",
   "metadata": {},
   "outputs": [],
   "source": []
  }
 ],
 "metadata": {
  "kernelspec": {
   "display_name": "venv",
   "language": "python",
   "name": "python3"
  },
  "language_info": {
   "codemirror_mode": {
    "name": "ipython",
    "version": 3
   },
   "file_extension": ".py",
   "mimetype": "text/x-python",
   "name": "python",
   "nbconvert_exporter": "python",
   "pygments_lexer": "ipython3",
   "version": "3.10.11"
  }
 },
 "nbformat": 4,
 "nbformat_minor": 5
}
