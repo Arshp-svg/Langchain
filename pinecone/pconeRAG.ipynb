{
 "cells": [
  {
   "cell_type": "code",
   "execution_count": 5,
   "id": "a4ac43ee",
   "metadata": {},
   "outputs": [
    {
     "name": "stderr",
     "output_type": "stream",
     "text": [
      "ERROR: pip's dependency resolver does not currently take into account all the packages that are installed. This behaviour is the source of the following dependency conflicts.\n",
      "langchain-objectbox 0.1.0 requires langchain-core<0.2.0,>=0.1.45, but you have langchain-core 0.3.76 which is incompatible.\n"
     ]
    }
   ],
   "source": [
    "!pip install --upgrade --quiet pinecone pinecone-client pinecone-text pinecone-notebooks"
   ]
  },
  {
   "cell_type": "code",
   "execution_count": null,
   "id": "323c6c0d",
   "metadata": {},
   "outputs": [],
   "source": [
    "# Load API key from environment variables for security\n",
    "import os\n",
    "from dotenv import load_dotenv\n",
    "load_dotenv()\n",
    "api_key = os.getenv(\"PINECONE_API_KEY\")\n",
    "\n",
    "if not api_key:\n",
    "    print(\"⚠️ Warning: PINECONE_API_KEY not found in environment variables!\")\n",
    "    print(\"Please add PINECONE_API_KEY to your .env file\")"
   ]
  },
  {
   "cell_type": "code",
   "execution_count": 2,
   "id": "652d75b5",
   "metadata": {},
   "outputs": [],
   "source": [
    "from langchain_community.retrievers import PineconeHybridSearchRetriever"
   ]
  },
  {
   "cell_type": "code",
   "execution_count": 4,
   "id": "3d0a2556",
   "metadata": {},
   "outputs": [],
   "source": [
    "import os\n",
    "from pinecone import Pinecone,ServerlessSpec\n",
    "index_name=\"hybrid-search-langchain-pinecone\"\n",
    "#initialize pinecone client\n",
    "\n",
    "pc=Pinecone(api_key=api_key)\n",
    "\n",
    "#check if index already exists\n",
    "\n",
    "if index_name not in pc.list_indexes():\n",
    "    pc.create_index(\n",
    "        name=index_name,\n",
    "        dimension=384,\n",
    "        metric=\"dotproduct\", #required for hybrid search\n",
    "        spec=ServerlessSpec(cloud=\"aws\",region=\"us-east-1\")\n",
    "    )"
   ]
  },
  {
   "cell_type": "code",
   "execution_count": 5,
   "id": "5565aad5",
   "metadata": {},
   "outputs": [
    {
     "data": {
      "text/plain": [
       "<pinecone.db_data.index.Index at 0x2e286062410>"
      ]
     },
     "execution_count": 5,
     "metadata": {},
     "output_type": "execute_result"
    }
   ],
   "source": [
    "index=pc.Index(index_name)\n",
    "index"
   ]
  },
  {
   "cell_type": "code",
   "execution_count": 6,
   "id": "bbab8026",
   "metadata": {},
   "outputs": [],
   "source": [
    "##vector Embedding and Sparse Matrix\n",
    "import os \n",
    "from dotenv import load_dotenv\n",
    "load_dotenv()\n",
    "os.environ[\"HUGGINGFACEHUB_API_TOKEN\"]=os.getenv(\"HUGGINGFACEHUB_API_TOKEN\")\n",
    "from langchain_huggingface import HuggingFaceEmbeddings\n",
    "embeddings=HuggingFaceEmbeddings(model_name=\"all-MiniLM-L6-v2\")\n"
   ]
  },
  {
   "cell_type": "code",
   "execution_count": 7,
   "id": "b1e67526",
   "metadata": {},
   "outputs": [
    {
     "data": {
      "text/plain": [
       "HuggingFaceEmbeddings(model_name='all-MiniLM-L6-v2', cache_folder=None, model_kwargs={}, encode_kwargs={}, query_encode_kwargs={}, multi_process=False, show_progress=False)"
      ]
     },
     "execution_count": 7,
     "metadata": {},
     "output_type": "execute_result"
    }
   ],
   "source": [
    "embeddings"
   ]
  },
  {
   "cell_type": "code",
   "execution_count": 8,
   "id": "7d4b21b5",
   "metadata": {},
   "outputs": [
    {
     "data": {
      "text/plain": [
       "<pinecone_text.sparse.bm25_encoder.BM25Encoder at 0x2e286062320>"
      ]
     },
     "execution_count": 8,
     "metadata": {},
     "output_type": "execute_result"
    }
   ],
   "source": [
    "from pinecone_text.sparse import BM25Encoder\n",
    "#BM25 uses TF-IDF algorithm to convert text into sparse vectors\n",
    "BM_encoder=BM25Encoder().default()\n",
    "BM_encoder"
   ]
  },
  {
   "cell_type": "code",
   "execution_count": 9,
   "id": "8fcd8213",
   "metadata": {},
   "outputs": [],
   "source": [
    "sentences = [\n",
    "    \"The 'I am Iron Man' line was a last-minute addition to the script.\",\n",
    "    \"Captain America lifting Mjolnir was foreshadowed in Avengers: Age of Ultron.\",\n",
    "    \"The final battle scene features nearly every Marvel Cinematic Universe hero.\",\n",
    "    \"Tony Stark's daughter, Morgan, saying 'I love you 3000' was inspired by Robert Downey Jr.'s real-life interaction with his children.\",\n",
    "    \"Thanos' line 'I am inevitable' reflects his belief in destiny and balance.\",\n",
    "    \"The Avengers' time travel suits were entirely CGI and not physical costumes.\",\n",
    "    \"The cheeseburger scene at Tony Stark's funeral is a callback to the first Iron Man movie.\",\n",
    "    \"Doctor Strange raising one finger to Tony Stark signifies the one winning scenario he foresaw in Infinity War.\",\n",
    "    \"The sound of hammering at the end credits is a tribute to Tony Stark building his first suit in Iron Man.\",\n",
    "    \"Thor's transformation into 'Bro Thor' symbolizes his struggle with guilt and failure.\",\n",
    "    \"Hawkeye's journey as Ronin shows the darker side of his character after losing his family.\",\n",
    "    \"The 'On your left' line during the final battle is a callback to Captain America: The Winter Soldier.\",\n",
    "    \"Black Widow's sacrifice on Vormir mirrors Gamora's death in Infinity War.\",\n",
    "    \"Hulk's snap to bring everyone back caused permanent damage to his arm.\",\n",
    "    \"The time travel explanation in Endgame is based on a multiverse theory rather than traditional time loops.\"\n",
    "]"
   ]
  },
  {
   "cell_type": "code",
   "execution_count": 10,
   "id": "b3fd704b",
   "metadata": {},
   "outputs": [
    {
     "data": {
      "application/vnd.jupyter.widget-view+json": {
       "model_id": "000dc511521f4731ab0ea5b063d02810",
       "version_major": 2,
       "version_minor": 0
      },
      "text/plain": [
       "  0%|          | 0/15 [00:00<?, ?it/s]"
      ]
     },
     "metadata": {},
     "output_type": "display_data"
    }
   ],
   "source": [
    "BM_encoder.fit(sentences)\n",
    "\n",
    "BM_encoder.dump(\"bm25_values.json\")\n",
    "\n",
    "BM_encoder=BM25Encoder().load(\"bm25_values.json\")"
   ]
  },
  {
   "cell_type": "code",
   "execution_count": 11,
   "id": "9c1d09ef",
   "metadata": {},
   "outputs": [],
   "source": [
    "retriever=PineconeHybridSearchRetriever(embeddings=embeddings, sparse_encoder=BM_encoder,index=index)"
   ]
  },
  {
   "cell_type": "code",
   "execution_count": 12,
   "id": "30bd8485",
   "metadata": {},
   "outputs": [
    {
     "data": {
      "text/plain": [
       "PineconeHybridSearchRetriever(embeddings=HuggingFaceEmbeddings(model_name='all-MiniLM-L6-v2', cache_folder=None, model_kwargs={}, encode_kwargs={}, query_encode_kwargs={}, multi_process=False, show_progress=False), sparse_encoder=<pinecone_text.sparse.bm25_encoder.BM25Encoder object at 0x000002E2AAC1EF80>, index=<pinecone.db_data.index.Index object at 0x000002E286062410>)"
      ]
     },
     "execution_count": 12,
     "metadata": {},
     "output_type": "execute_result"
    }
   ],
   "source": [
    "retriever"
   ]
  },
  {
   "cell_type": "code",
   "execution_count": 13,
   "id": "c203cf45",
   "metadata": {},
   "outputs": [
    {
     "data": {
      "application/vnd.jupyter.widget-view+json": {
       "model_id": "adbf5e6ac3ba47ef85e6370a01ff1495",
       "version_major": 2,
       "version_minor": 0
      },
      "text/plain": [
       "  0%|          | 0/1 [00:00<?, ?it/s]"
      ]
     },
     "metadata": {},
     "output_type": "display_data"
    }
   ],
   "source": [
    "retriever.add_texts(sentences)"
   ]
  },
  {
   "cell_type": "code",
   "execution_count": 17,
   "id": "104717eb",
   "metadata": {},
   "outputs": [
    {
     "data": {
      "text/plain": [
       "[Document(metadata={'score': 0.395565957}, page_content=\"Tony Stark's daughter, Morgan, saying 'I love you 3000' was inspired by Robert Downey Jr.'s real-life interaction with his children.\"),\n",
       " Document(metadata={'score': 0.0798287392}, page_content=\"The 'On your left' line during the final battle is a callback to Captain America: The Winter Soldier.\"),\n",
       " Document(metadata={'score': 0.0765957832}, page_content='The sound of hammering at the end credits is a tribute to Tony Stark building his first suit in Iron Man.'),\n",
       " Document(metadata={'score': 0.115713596}, page_content=\"The 'I am Iron Man' line was a last-minute addition to the script.\")]"
      ]
     },
     "execution_count": 17,
     "metadata": {},
     "output_type": "execute_result"
    }
   ],
   "source": [
    "retriever.invoke(\"who said I love you 3000\")"
   ]
  },
  {
   "cell_type": "code",
   "execution_count": null,
   "id": "bbfb4eef",
   "metadata": {},
   "outputs": [],
   "source": []
  }
 ],
 "metadata": {
  "kernelspec": {
   "display_name": "venv",
   "language": "python",
   "name": "python3"
  },
  "language_info": {
   "codemirror_mode": {
    "name": "ipython",
    "version": 3
   },
   "file_extension": ".py",
   "mimetype": "text/x-python",
   "name": "python",
   "nbconvert_exporter": "python",
   "pygments_lexer": "ipython3",
   "version": "3.10.11"
  }
 },
 "nbformat": 4,
 "nbformat_minor": 5
}
